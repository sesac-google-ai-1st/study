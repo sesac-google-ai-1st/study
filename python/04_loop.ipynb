{
 "cells": [
  {
   "cell_type": "code",
   "execution_count": 2,
   "metadata": {},
   "outputs": [
    {
     "name": "stdout",
     "output_type": "stream",
     "text": [
      "3\n",
      "2\n",
      "1\n"
     ]
    }
   ],
   "source": [
    "data = 3\n",
    "\n",
    "while data:\n",
    "    print(data)\n",
    "    # data = data - 1\n",
    "    data -= 1"
   ]
  },
  {
   "cell_type": "code",
   "execution_count": 4,
   "metadata": {},
   "outputs": [
    {
     "name": "stdout",
     "output_type": "stream",
     "text": [
      "0\n",
      "1\n",
      "2\n",
      "3\n",
      "4\n",
      "5\n"
     ]
    }
   ],
   "source": [
    "# break : 반복을 중단할 때 사용 \n",
    "\n",
    "count = 0 \n",
    "\n",
    "while True:\n",
    "    print(count)\n",
    "    count = count + 1\n",
    "\n",
    "    if count > 5:\n",
    "        break"
   ]
  },
  {
   "cell_type": "code",
   "execution_count": 5,
   "metadata": {},
   "outputs": [],
   "source": [
    "# # 무한루프 \n",
    "\n",
    "# result = 1 \n",
    "\n",
    "# while result:\n",
    "#     result = result + 1\n",
    "#     print(result)    "
   ]
  },
  {
   "cell_type": "code",
   "execution_count": 9,
   "metadata": {},
   "outputs": [
    {
     "name": "stdout",
     "output_type": "stream",
     "text": [
      "2\n",
      "4\n",
      "6\n",
      "8\n"
     ]
    }
   ],
   "source": [
    "# continue \n",
    "# continue 실행되면, \n",
    "# 현재 반복 루프 내에서 continue 문 아래의 코드는 실행되지 않고,\n",
    "# 반복문의 다음 반복으로 이동\n",
    "\n",
    "count = 0 \n",
    "while True:\n",
    "    # count = count + 1 \n",
    "    count += 1\n",
    "    if count >= 10:\n",
    "        break\n",
    "    # 짝수 \n",
    "    if count % 2:\n",
    "        continue\n",
    "    print(count)"
   ]
  },
  {
   "cell_type": "code",
   "execution_count": 15,
   "metadata": {},
   "outputs": [
    {
     "data": {
      "text/plain": [
       "(True, True, False)"
      ]
     },
     "execution_count": 15,
     "metadata": {},
     "output_type": "execute_result"
    }
   ],
   "source": [
    "1 == 1, 'q' == 'q', 'python' == 'q'"
   ]
  },
  {
   "cell_type": "code",
   "execution_count": 12,
   "metadata": {},
   "outputs": [
    {
     "name": "stdout",
     "output_type": "stream",
     "text": [
      "['sadfsdaf', 'asdf', 'adfs']\n"
     ]
    }
   ],
   "source": [
    "# mini quiz \n",
    "# while 문을 이용 \n",
    "# 'q' 라는 문자열이 입력될 때 까지 \n",
    "# 단어를 words 라는 리스트 변수에 입력(append) 받는 코드를 작성\n",
    "words = []\n",
    "while True:\n",
    "    word = input('insert word(q:exit()) : ')\n",
    "    if word == 'q':\n",
    "        print(words)\n",
    "        break\n",
    "    words.append(word)"
   ]
  },
  {
   "cell_type": "code",
   "execution_count": 16,
   "metadata": {},
   "outputs": [
    {
     "data": {
      "text/plain": [
       "['',\n",
       " 'data = 3\\n\\nwhile data:\\n    print(data)\\n    data = data - 1',\n",
       " 'data = 3\\n\\nwhile data:\\n    print(data)\\n    # data = data - 1\\n    data -= 1',\n",
       " '# break : 반복을 중단할 때 사용 \\n\\ncount = 0 \\n\\nwhile True:\\n    print(count)\\n    count = count + 1\\n\\n    if count >= 5:\\n        break',\n",
       " '# break : 반복을 중단할 때 사용 \\n\\ncount = 0 \\n\\nwhile True:\\n    print(count)\\n    count = count + 1\\n\\n    if count > 5:\\n        break',\n",
       " '# # 무한루프 \\n\\n# result = 1 \\n\\n# while result:\\n#     result = result + 1\\n#     print(result)    ',\n",
       " '# continue \\n# continue 실행되면, \\n# 현재 반복 루프 내에서 continue 문 아래의 코드는 실행되지 않고,\\n# 반복문의 다음 반복으로 이동\\n\\ncount = 0 \\nwhile True:\\n    # count = count + 1 \\n    count += 1',\n",
       " '# continue \\n# continue 실행되면, \\n# 현재 반복 루프 내에서 continue 문 아래의 코드는 실행되지 않고,\\n# 반복문의 다음 반복으로 이동\\n\\ncount = 0 \\nwhile True:\\n    # count = count + 1 \\n    count += 1\\n\\n    if count >= 10:\\n        break\\n\\n    # 짝수 \\n    ',\n",
       " '# continue \\n# continue 실행되면, \\n# 현재 반복 루프 내에서 continue 문 아래의 코드는 실행되지 않고,\\n# 반복문의 다음 반복으로 이동\\n\\ncount = 0 \\nwhile True:\\n    # count = count + 1 \\n    count += 1\\n\\n    if count >= 10:\\n        break\\n    \\n    print(count)\\n    # 짝수 ',\n",
       " '# continue \\n# continue 실행되면, \\n# 현재 반복 루프 내에서 continue 문 아래의 코드는 실행되지 않고,\\n# 반복문의 다음 반복으로 이동\\n\\ncount = 0 \\nwhile True:\\n    # count = count + 1 \\n    count += 1\\n\\n    if count >= 10:\\n        break\\n    \\n    # 짝수 \\n    if count % 2:\\n        continue\\n    \\n    print(count)\\n    ',\n",
       " \"# mini quiz \\n# while 문을 이용 \\n# 'q' 라는 문자열이 입력될 때 까지 \\n# 단어를 words 라는 리스트 변수에 입력(append) 받는 코드를 작성\\nwords = []\\nwhile True:\\n    word = input('insert word(q:exit()) : ')\\n    if word == 'q':\\n        print(words)\\n        break\\n    words.append(word)\",\n",
       " \"# mini quiz \\n# while 문을 이용 \\n# 'q' 라는 문자열이 입력될 때 까지 \\n# 단어를 words 라는 리스트 변수에 입력(append) 받는 코드를 작성\\nwords = []\\nwhile True:\\n    word = input('insert word(q:exit()) : ')\\n    print(word)\\n    if word == 'q':\\n        print(words)\\n        break\\n    words.append(word)\",\n",
       " \"# mini quiz \\n# while 문을 이용 \\n# 'q' 라는 문자열이 입력될 때 까지 \\n# 단어를 words 라는 리스트 변수에 입력(append) 받는 코드를 작성\\nwords = []\\nwhile True:\\n    word = input('insert word(q:exit()) : ')\\n    if word == 'q':\\n        print(words)\\n        break\\n    words.append(word)\",\n",
       " '1 == 1',\n",
       " \"1 == 1, 'q' == 'q'\",\n",
       " \"1 == 1, 'q' == 'q', 'python' == 'q'\",\n",
       " 'list(In)']"
      ]
     },
     "execution_count": 16,
     "metadata": {},
     "output_type": "execute_result"
    }
   ],
   "source": [
    "list(In)"
   ]
  },
  {
   "cell_type": "code",
   "execution_count": 17,
   "metadata": {},
   "outputs": [],
   "source": [
    "# 로또 번호 출력\n",
    "# (1) 랜덤한 숫자 6개 출력 \n",
    "# (2) 중복되는 숫자 없이 6개 \n",
    "# (3) 오름차순 정렬\n",
    "# (4) 1 ~ 45 숫자 \n",
    "# [1, 2, 3, 34, 45]"
   ]
  },
  {
   "cell_type": "code",
   "execution_count": 86,
   "metadata": {},
   "outputs": [
    {
     "data": {
      "text/plain": [
       "False"
      ]
     },
     "execution_count": 86,
     "metadata": {},
     "output_type": "execute_result"
    }
   ],
   "source": [
    "value_list = [1]\n",
    "1 not in value_list"
   ]
  },
  {
   "cell_type": "code",
   "execution_count": 146,
   "metadata": {},
   "outputs": [
    {
     "name": "stdout",
     "output_type": "stream",
     "text": [
      "[7, 9, 10, 24, 31, 42]\n"
     ]
    }
   ],
   "source": [
    "import random \n",
    "# print(random.randint(1, 45))\n",
    "lotto = [] \n",
    "\n",
    "while True:\n",
    "    random_number = random.randint(1, 45)\n",
    "\n",
    "    if random_number not in lotto:\n",
    "        lotto.append(random_number)\n",
    "    \n",
    "    if len(lotto) >= 6:\n",
    "        lotto.sort()\n",
    "        break\n",
    "\n",
    "print(lotto)\n",
    "# [1, 2, 3, 34, 45]"
   ]
  },
  {
   "cell_type": "code",
   "execution_count": null,
   "metadata": {},
   "outputs": [],
   "source": []
  }
 ],
 "metadata": {
  "kernelspec": {
   "display_name": "google_venv",
   "language": "python",
   "name": "python3"
  },
  "language_info": {
   "codemirror_mode": {
    "name": "ipython",
    "version": 3
   },
   "file_extension": ".py",
   "mimetype": "text/x-python",
   "name": "python",
   "nbconvert_exporter": "python",
   "pygments_lexer": "ipython3",
   "version": "3.8.17"
  }
 },
 "nbformat": 4,
 "nbformat_minor": 2
}
