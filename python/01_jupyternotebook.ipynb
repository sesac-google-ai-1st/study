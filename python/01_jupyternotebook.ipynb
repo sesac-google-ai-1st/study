{
  "nbformat": 4,
  "nbformat_minor": 0,
  "metadata": {
    "colab": {
      "provenance": []
    },
    "kernelspec": {
      "name": "python3",
      "display_name": "Python 3"
    },
    "language_info": {
      "name": "python"
    }
  },
  "cells": [
    {
      "cell_type": "markdown",
      "source": [
        "# Jupyter notebook"
      ],
      "metadata": {
        "id": "hyIc-hCcCQd7"
      }
    },
    {
      "cell_type": "markdown",
      "source": [
        "## 1. 인터페이스와 주요 단축키"
      ],
      "metadata": {
        "id": "hh7-Aj1ZCd-w"
      }
    },
    {
      "cell_type": "markdown",
      "source": [
        "- cell 단위로 이루어져 있습니다\n",
        "  - cell 단위로 코드를 실행\n",
        "- mode\n",
        "  - 명령모드: 셀을 수정할 때 사용\n",
        "  - 편집모드: 셀의 내용을 수정할 때 사용\n",
        "- cell type\n",
        "  - code: cell 을 python 문법으로 실행\n",
        "  - markdown: cell 을 markdown 문법으로 실행\n",
        "- 자주 쓰는 단축키\n",
        "  - 코드 실행: shift + enter\n",
        "  - 명령모드\n",
        "    - 위에 새로운 셀 생성: a\n",
        "    - 아래 새로운 셀 생성: b\n",
        "    - 현재 선택한 셀 삭제: ctrl(cmd) + m, d"
      ],
      "metadata": {
        "id": "Typtu8jgCiHH"
      }
    }
  ]
}