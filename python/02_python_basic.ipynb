{
  "nbformat": 4,
  "nbformat_minor": 0,
  "metadata": {
    "colab": {
      "provenance": []
    },
    "kernelspec": {
      "name": "python3",
      "display_name": "Python 3"
    },
    "language_info": {
      "name": "python"
    }
  },
  "cells": [
    {
      "cell_type": "markdown",
      "source": [
        "# 파이썬 기초"
      ],
      "metadata": {
        "id": "DwBEnORpEsMY"
      }
    },
    {
      "cell_type": "markdown",
      "source": [
        "## 1. print() 출력 함수"
      ],
      "metadata": {
        "id": "N52RIPhzEzSh"
      }
    },
    {
      "cell_type": "code",
      "source": [
        "a = 1\n",
        "b = 2\n",
        "\n",
        "print(a)"
      ],
      "metadata": {
        "colab": {
          "base_uri": "https://localhost:8080/"
        },
        "id": "F6d81N0xE9O7",
        "outputId": "81b02a26-ac7f-4d77-a675-d1c88120e9df"
      },
      "execution_count": 1,
      "outputs": [
        {
          "output_type": "stream",
          "name": "stdout",
          "text": [
            "1\n"
          ]
        }
      ]
    },
    {
      "cell_type": "code",
      "source": [
        "print(b)"
      ],
      "metadata": {
        "colab": {
          "base_uri": "https://localhost:8080/"
        },
        "id": "oYwrmpnRFAyT",
        "outputId": "2a0b7e2a-c146-427e-f685-931c3d73c93f"
      },
      "execution_count": 2,
      "outputs": [
        {
          "output_type": "stream",
          "name": "stdout",
          "text": [
            "2\n"
          ]
        }
      ]
    },
    {
      "cell_type": "code",
      "source": [
        "print('자동완성')\n",
        "print('오타를 방지할 수 있습니다')"
      ],
      "metadata": {
        "colab": {
          "base_uri": "https://localhost:8080/"
        },
        "id": "9mm4c4ENFUoo",
        "outputId": "093f03f2-6f80-48f6-c4b8-ef61c4c880c2"
      },
      "execution_count": 3,
      "outputs": [
        {
          "output_type": "stream",
          "name": "stdout",
          "text": [
            "자동완성\n",
            "오타를 방지할 수 있습니다\n"
          ]
        }
      ]
    },
    {
      "cell_type": "markdown",
      "source": [
        "## 2. 주석(comment)"
      ],
      "metadata": {
        "id": "j-5JBEEeFkAv"
      }
    },
    {
      "cell_type": "code",
      "source": [
        "# 주석: 앞에 #을 붙이면 파이썬 코드를 실행하지 않습니다\n",
        "# 코드에 대한 설명이나 실행시키고 싶지 않을 때 사용\n",
        "# ctrl(cmd) + /"
      ],
      "metadata": {
        "id": "W0k7CcPyFvL3"
      },
      "execution_count": 4,
      "outputs": []
    },
    {
      "cell_type": "markdown",
      "source": [
        "## 3. 변수 선언\n",
        "- RAM 저장공간에 값을 할당"
      ],
      "metadata": {
        "id": "-AXnyfsSGVlh"
      }
    },
    {
      "cell_type": "code",
      "source": [
        "# 1 이라는 값(value)를 a 라는 변수에 할당\n",
        "a = 1\n",
        "b = 2\n",
        "print(a, b)"
      ],
      "metadata": {
        "colab": {
          "base_uri": "https://localhost:8080/"
        },
        "id": "vbHfjyx1G2Dp",
        "outputId": "a227440b-5100-4b4a-bdff-7693d7ec7ada"
      },
      "execution_count": 5,
      "outputs": [
        {
          "output_type": "stream",
          "name": "stdout",
          "text": [
            "1 2\n"
          ]
        }
      ]
    },
    {
      "cell_type": "code",
      "source": [
        "d, e = 3, 4\n",
        "print(d)\n",
        "# print(e)"
      ],
      "metadata": {
        "colab": {
          "base_uri": "https://localhost:8080/"
        },
        "id": "mtBpq5r0G44u",
        "outputId": "0f8aed9d-64c6-419d-9c40-68796a6d3dc2"
      },
      "execution_count": 6,
      "outputs": [
        {
          "output_type": "stream",
          "name": "stdout",
          "text": [
            "3\n"
          ]
        }
      ]
    },
    {
      "cell_type": "code",
      "source": [
        "f = g = 5\n",
        "print(f)\n",
        "print(g)"
      ],
      "metadata": {
        "colab": {
          "base_uri": "https://localhost:8080/"
        },
        "id": "SSHJBk9DHE0K",
        "outputId": "ffb91b41-06f5-4af7-b95d-73a4c20d75df"
      },
      "execution_count": 7,
      "outputs": [
        {
          "output_type": "stream",
          "name": "stdout",
          "text": [
            "5\n",
            "5\n"
          ]
        }
      ]
    },
    {
      "cell_type": "code",
      "source": [
        "# 할당하지 않은 변수를 출력하면?\n",
        "print(z)"
      ],
      "metadata": {
        "colab": {
          "base_uri": "https://localhost:8080/",
          "height": 194
        },
        "id": "xcxYE20_HRLX",
        "outputId": "72940207-043b-4ab3-8e69-8e7253f49ddb"
      },
      "execution_count": 9,
      "outputs": [
        {
          "output_type": "error",
          "ename": "NameError",
          "evalue": "ignored",
          "traceback": [
            "\u001b[0;31m---------------------------------------------------------------------------\u001b[0m",
            "\u001b[0;31mNameError\u001b[0m                                 Traceback (most recent call last)",
            "\u001b[0;32m<ipython-input-9-bfea9bd77398>\u001b[0m in \u001b[0;36m<cell line: 2>\u001b[0;34m()\u001b[0m\n\u001b[1;32m      1\u001b[0m \u001b[0;31m# 할당하지 않은 변수를 출력하면?\u001b[0m\u001b[0;34m\u001b[0m\u001b[0;34m\u001b[0m\u001b[0m\n\u001b[0;32m----> 2\u001b[0;31m \u001b[0mprint\u001b[0m\u001b[0;34m(\u001b[0m\u001b[0mz\u001b[0m\u001b[0;34m)\u001b[0m\u001b[0;34m\u001b[0m\u001b[0;34m\u001b[0m\u001b[0m\n\u001b[0m",
            "\u001b[0;31mNameError\u001b[0m: name 'z' is not defined"
          ]
        }
      ]
    },
    {
      "cell_type": "markdown",
      "source": [
        "## 4. 식별자\n",
        "- 변수, 함수, 클래스, 모듈 등 이름을 식별자라고 합니다\n",
        "- 식별자 규칙\n",
        "  - 소문자, 대문자, 숫자, 언더스코어(_) 사용\n",
        "  - 가장 앞에 숫자 사용 불가\n",
        "  - 예약어 사용 불가\n",
        "    - def, class, list, str, int, float...\n",
        "  - 컨벤션\n",
        "    - snake case: python_basic\n",
        "    - camel case: PythonBasic"
      ],
      "metadata": {
        "id": "AmTEQIzxHWTx"
      }
    },
    {
      "cell_type": "code",
      "source": [
        "# 가능한 형태\n",
        "name = \"John\"\n",
        "age = 25\n",
        "my_var = 3.14\n",
        "hello_word = 'Hello, World'\n",
        "IsValid = True"
      ],
      "metadata": {
        "id": "YOWYgLSsH2Hj"
      },
      "execution_count": 10,
      "outputs": []
    },
    {
      "cell_type": "code",
      "source": [
        "# 불가능한 형태\n",
        "\n",
        "# def = \"John\"\n",
        "# first-name = \"John\"\n",
        "# 2nd = 42\n",
        "# hello word = 'hi'"
      ],
      "metadata": {
        "id": "jO7PA7rHJLke"
      },
      "execution_count": 11,
      "outputs": []
    },
    {
      "cell_type": "markdown",
      "source": [
        "## 5. 데이터 타입\n",
        "- RAM 저장공간을 효율적으로 사용하기 위해서 저장공간의 타입을 설정"
      ],
      "metadata": {
        "id": "3Rz0c58CJXoj"
      }
    },
    {
      "cell_type": "markdown",
      "source": [
        "### 동적타이핑(Dynamic Typing)\n",
        "- 변수를 선언할 때 명시적으로 데이터 타입을 지정하지 않는 방식\n",
        "\n",
        "### 정적타이핑\n",
        "- 변수 선언시 데이터 타입을 직접 설정 후 할당"
      ],
      "metadata": {
        "id": "Gyj9FX3IsVUi"
      }
    },
    {
      "cell_type": "code",
      "source": [
        "x = 5\n",
        "print(x)"
      ],
      "metadata": {
        "colab": {
          "base_uri": "https://localhost:8080/"
        },
        "id": "NP42DcORsj0I",
        "outputId": "7ceb6510-0de3-4ebe-ea18-a1fb05a69743"
      },
      "execution_count": 12,
      "outputs": [
        {
          "output_type": "stream",
          "name": "stdout",
          "text": [
            "5\n"
          ]
        }
      ]
    },
    {
      "cell_type": "code",
      "source": [
        "type(x)"
      ],
      "metadata": {
        "colab": {
          "base_uri": "https://localhost:8080/"
        },
        "id": "PwUbkb_RsmNa",
        "outputId": "61dce362-9f26-45a1-fa57-a4795695537b"
      },
      "execution_count": 13,
      "outputs": [
        {
          "output_type": "execute_result",
          "data": {
            "text/plain": [
              "int"
            ]
          },
          "metadata": {},
          "execution_count": 13
        }
      ]
    },
    {
      "cell_type": "markdown",
      "source": [
        "### 파이썬 대표적인 데이터 타입 7가지\n",
        "- int, float, bool, str\n",
        "- list, tuple, dict"
      ],
      "metadata": {
        "id": "tTvLh0ZBsyoE"
      }
    },
    {
      "cell_type": "code",
      "source": [
        "a = 1 # integer 정수\n",
        "b = 'string'  # string 문자열 pandas object\n",
        "\n",
        "type(a), type(b)"
      ],
      "metadata": {
        "colab": {
          "base_uri": "https://localhost:8080/"
        },
        "id": "IpeVqLfutjYi",
        "outputId": "71a58caa-a980-4a01-f2ff-5971e6803d98"
      },
      "execution_count": 14,
      "outputs": [
        {
          "output_type": "execute_result",
          "data": {
            "text/plain": [
              "(int, str)"
            ]
          },
          "metadata": {},
          "execution_count": 14
        }
      ]
    },
    {
      "cell_type": "markdown",
      "source": [
        "### 5-1. 기본 데이터 타입\n",
        "- int: 정수\n",
        "  - 1, 2, 3\n",
        "- float: 소수점\n",
        "  - 1.0, 3.14, 5.0\n",
        "- str: 문자열\n",
        "  - 'python', \"python\", \"\"\"python\"\"\"\n",
        "- bool: 논리값\n",
        "  - True, False"
      ],
      "metadata": {
        "id": "K6W-e9JottuZ"
      }
    },
    {
      "cell_type": "code",
      "source": [
        "a = 1\n",
        "b = 1.2\n",
        "c = \"True\"\n",
        "d = True\n",
        "f = '1.2'"
      ],
      "metadata": {
        "id": "QKdEwl7MuN5a"
      },
      "execution_count": 15,
      "outputs": []
    },
    {
      "cell_type": "code",
      "source": [
        "type(a), type(b), type(c), type(d), type(f)"
      ],
      "metadata": {
        "colab": {
          "base_uri": "https://localhost:8080/"
        },
        "id": "iACjXTnFuTBS",
        "outputId": "60a4fc63-c838-4e0c-ae6b-f27b207b9cc0"
      },
      "execution_count": 16,
      "outputs": [
        {
          "output_type": "execute_result",
          "data": {
            "text/plain": [
              "(int, float, str, bool, str)"
            ]
          },
          "metadata": {},
          "execution_count": 16
        }
      ]
    },
    {
      "cell_type": "code",
      "source": [
        "print(a + 1)"
      ],
      "metadata": {
        "colab": {
          "base_uri": "https://localhost:8080/"
        },
        "id": "SQvqRvEXuYkS",
        "outputId": "62ac05a3-abaf-4008-b082-444ea8a69aec"
      },
      "execution_count": 17,
      "outputs": [
        {
          "output_type": "stream",
          "name": "stdout",
          "text": [
            "2\n"
          ]
        }
      ]
    },
    {
      "cell_type": "code",
      "source": [
        "print(b + 1)"
      ],
      "metadata": {
        "colab": {
          "base_uri": "https://localhost:8080/"
        },
        "id": "pze4KIeaujCh",
        "outputId": "0aed521d-c9f0-4062-e4c1-e9aaaf5021c5"
      },
      "execution_count": 18,
      "outputs": [
        {
          "output_type": "stream",
          "name": "stdout",
          "text": [
            "2.2\n"
          ]
        }
      ]
    },
    {
      "cell_type": "code",
      "source": [
        "print(c + 1)"
      ],
      "metadata": {
        "colab": {
          "base_uri": "https://localhost:8080/",
          "height": 176
        },
        "id": "eQlJZtMlunEp",
        "outputId": "cc7e0b44-8048-4b90-9f5a-9f41fe389474"
      },
      "execution_count": 19,
      "outputs": [
        {
          "output_type": "error",
          "ename": "TypeError",
          "evalue": "ignored",
          "traceback": [
            "\u001b[0;31m---------------------------------------------------------------------------\u001b[0m",
            "\u001b[0;31mTypeError\u001b[0m                                 Traceback (most recent call last)",
            "\u001b[0;32m<ipython-input-19-92ebc43949f8>\u001b[0m in \u001b[0;36m<cell line: 1>\u001b[0;34m()\u001b[0m\n\u001b[0;32m----> 1\u001b[0;31m \u001b[0mprint\u001b[0m\u001b[0;34m(\u001b[0m\u001b[0mc\u001b[0m \u001b[0;34m+\u001b[0m \u001b[0;36m1\u001b[0m\u001b[0;34m)\u001b[0m\u001b[0;34m\u001b[0m\u001b[0;34m\u001b[0m\u001b[0m\n\u001b[0m",
            "\u001b[0;31mTypeError\u001b[0m: can only concatenate str (not \"int\") to str"
          ]
        }
      ]
    },
    {
      "cell_type": "code",
      "source": [
        "print(d)"
      ],
      "metadata": {
        "id": "Fr07eMb9uuGF"
      },
      "execution_count": null,
      "outputs": []
    },
    {
      "cell_type": "code",
      "source": [
        "# 숫자와 논리형 데이터는 연산이 가능합니다\n",
        "# 1 + True = 2\n",
        "# True = 1"
      ],
      "metadata": {
        "id": "4Fofv0Eku5vK"
      },
      "execution_count": null,
      "outputs": []
    },
    {
      "cell_type": "code",
      "source": [
        "# 1 + False = 1\n",
        "# False = 0\n",
        "1 + False"
      ],
      "metadata": {
        "id": "xr78fGUBvCv1"
      },
      "execution_count": null,
      "outputs": []
    },
    {
      "cell_type": "code",
      "source": [
        "a + d"
      ],
      "metadata": {
        "colab": {
          "base_uri": "https://localhost:8080/"
        },
        "id": "DiF3k2GEuzd8",
        "outputId": "d02fad3e-b998-4100-f8f2-bc917ac12b59"
      },
      "execution_count": 20,
      "outputs": [
        {
          "output_type": "execute_result",
          "data": {
            "text/plain": [
              "2"
            ]
          },
          "metadata": {},
          "execution_count": 20
        }
      ]
    },
    {
      "cell_type": "markdown",
      "source": [
        "### 5-2. 컨테이너 데이터 타입\n",
        "- list: 여러 개의 값을 순서대로 담을 수 있고, 수정이 가능한 데이터\n",
        "  - [1, 2, 3]\n",
        "  - [1, \"문자\", [1, 2, 3]]\n",
        "- tuple: 리스트 동일한 내용이지만, 수정이 불가능한 데이터\n",
        "  - (1, 2, 3)\n",
        "- dict: 순서가 없고, 키(key) 값(value) 의 쌍으로 이루어진 데이터\n",
        "  - {\"key\": \"value\"}\n",
        "\n",
        "- 컬렉션 데이터 타입 안에 담긴 데이터를 아이템(item) 또는 원소(element)\n",
        "- 수정이 가능한 것을 가변(mutable)\n",
        "- 수정이 불가능한 것을 불변(immutable)"
      ],
      "metadata": {
        "id": "nfyCQ_g2u2JR"
      }
    },
    {
      "cell_type": "markdown",
      "source": [
        "### 리스트 데이터 다루기 연습"
      ],
      "metadata": {
        "id": "nl0a2nawwRSX"
      }
    },
    {
      "cell_type": "code",
      "source": [
        "# 1. 리스트 데이터 생성\n",
        "my_li = [1, 5, 4, 6, 111, 111, 10, 45, 3, 2]"
      ],
      "metadata": {
        "id": "dYNkCej6wTD3"
      },
      "execution_count": 21,
      "outputs": []
    },
    {
      "cell_type": "code",
      "source": [
        "# 2. 안에 데이터 몇 개 담겨 있어요?\n",
        "len(my_li)"
      ],
      "metadata": {
        "colab": {
          "base_uri": "https://localhost:8080/"
        },
        "id": "ACmsStq0whRs",
        "outputId": "f6c775c1-5704-4ac3-e048-5a679765bc3b"
      },
      "execution_count": 22,
      "outputs": [
        {
          "output_type": "execute_result",
          "data": {
            "text/plain": [
              "10"
            ]
          },
          "metadata": {},
          "execution_count": 22
        }
      ]
    },
    {
      "cell_type": "code",
      "source": [
        "# 3. 리스트에 값 추가\n",
        "my_li.append(111)"
      ],
      "metadata": {
        "id": "IYvxKkHMwnpB"
      },
      "execution_count": 23,
      "outputs": []
    },
    {
      "cell_type": "code",
      "source": [
        "print(my_li)"
      ],
      "metadata": {
        "colab": {
          "base_uri": "https://localhost:8080/"
        },
        "id": "UI2qoZAewz_F",
        "outputId": "ba0e5d08-e1fd-4c22-d750-cbeb30710f53"
      },
      "execution_count": 24,
      "outputs": [
        {
          "output_type": "stream",
          "name": "stdout",
          "text": [
            "[1, 5, 4, 6, 111, 111, 10, 45, 3, 2, 111]\n"
          ]
        }
      ]
    },
    {
      "cell_type": "code",
      "source": [
        "my_li.append([112, 113])"
      ],
      "metadata": {
        "id": "WOkOK69hw1AY"
      },
      "execution_count": 25,
      "outputs": []
    },
    {
      "cell_type": "code",
      "source": [
        "print(my_li)"
      ],
      "metadata": {
        "colab": {
          "base_uri": "https://localhost:8080/"
        },
        "id": "cWuRaoTbw_Tk",
        "outputId": "97f3311a-a9cf-41df-9440-438aada26e39"
      },
      "execution_count": 26,
      "outputs": [
        {
          "output_type": "stream",
          "name": "stdout",
          "text": [
            "[1, 5, 4, 6, 111, 111, 10, 45, 3, 2, 111, [112, 113]]\n"
          ]
        }
      ]
    },
    {
      "cell_type": "code",
      "source": [
        "# extend()\n",
        "\n",
        "my_li.extend([14, 15])"
      ],
      "metadata": {
        "id": "rtMLx5zixI7H"
      },
      "execution_count": 27,
      "outputs": []
    },
    {
      "cell_type": "code",
      "source": [
        "print(my_li)"
      ],
      "metadata": {
        "colab": {
          "base_uri": "https://localhost:8080/"
        },
        "id": "45WO6VVuxhjP",
        "outputId": "61fea208-b637-414a-a90b-5b1dd1e5662d"
      },
      "execution_count": 28,
      "outputs": [
        {
          "output_type": "stream",
          "name": "stdout",
          "text": [
            "[1, 5, 4, 6, 111, 111, 10, 45, 3, 2, 111, [112, 113], 14, 15]\n"
          ]
        }
      ]
    },
    {
      "cell_type": "code",
      "source": [
        "# insert()\n",
        "my_li.insert(1, 10)"
      ],
      "metadata": {
        "id": "OMyER2h_xvqZ"
      },
      "execution_count": 29,
      "outputs": []
    },
    {
      "cell_type": "code",
      "source": [
        "print(my_li)"
      ],
      "metadata": {
        "colab": {
          "base_uri": "https://localhost:8080/"
        },
        "id": "8bBHtbVhyNSR",
        "outputId": "cfa26cfa-0459-40f9-ce5d-0e85e9344faa"
      },
      "execution_count": 30,
      "outputs": [
        {
          "output_type": "stream",
          "name": "stdout",
          "text": [
            "[1, 10, 5, 4, 6, 111, 111, 10, 45, 3, 2, 111, [112, 113], 14, 15]\n"
          ]
        }
      ]
    },
    {
      "cell_type": "code",
      "source": [
        "# 4. 리스트에 특정 값이 있는지 확인!\n",
        "# value in list -> bool\n",
        "10 in my_li"
      ],
      "metadata": {
        "colab": {
          "base_uri": "https://localhost:8080/"
        },
        "id": "qbUwzGGFyONL",
        "outputId": "69a385bd-717c-4520-9899-072323e78bb4"
      },
      "execution_count": 31,
      "outputs": [
        {
          "output_type": "execute_result",
          "data": {
            "text/plain": [
              "True"
            ]
          },
          "metadata": {},
          "execution_count": 31
        }
      ]
    },
    {
      "cell_type": "code",
      "source": [
        "# 5. 리스트에서 특정 값 삭제\n",
        "my_li.remove(45)"
      ],
      "metadata": {
        "id": "cTQPF1caycAG"
      },
      "execution_count": 32,
      "outputs": []
    },
    {
      "cell_type": "code",
      "source": [
        "print(my_li)"
      ],
      "metadata": {
        "colab": {
          "base_uri": "https://localhost:8080/"
        },
        "id": "RsxCjsLPy_Bh",
        "outputId": "125ee464-c052-4c88-f294-2f90f4fdac19"
      },
      "execution_count": 33,
      "outputs": [
        {
          "output_type": "stream",
          "name": "stdout",
          "text": [
            "[1, 10, 5, 4, 6, 111, 111, 10, 3, 2, 111, [112, 113], 14, 15]\n"
          ]
        }
      ]
    },
    {
      "cell_type": "code",
      "source": [
        "my_li.remove([112])"
      ],
      "metadata": {
        "colab": {
          "base_uri": "https://localhost:8080/",
          "height": 176
        },
        "id": "xFT74DYozAJZ",
        "outputId": "9fda7680-a7e6-45dc-eb3b-e54dd9b9bf47"
      },
      "execution_count": 34,
      "outputs": [
        {
          "output_type": "error",
          "ename": "ValueError",
          "evalue": "ignored",
          "traceback": [
            "\u001b[0;31m---------------------------------------------------------------------------\u001b[0m",
            "\u001b[0;31mValueError\u001b[0m                                Traceback (most recent call last)",
            "\u001b[0;32m<ipython-input-34-9bfffc5bf0ba>\u001b[0m in \u001b[0;36m<cell line: 1>\u001b[0;34m()\u001b[0m\n\u001b[0;32m----> 1\u001b[0;31m \u001b[0mmy_li\u001b[0m\u001b[0;34m.\u001b[0m\u001b[0mremove\u001b[0m\u001b[0;34m(\u001b[0m\u001b[0;34m[\u001b[0m\u001b[0;36m112\u001b[0m\u001b[0;34m]\u001b[0m\u001b[0;34m)\u001b[0m\u001b[0;34m\u001b[0m\u001b[0;34m\u001b[0m\u001b[0m\n\u001b[0m",
            "\u001b[0;31mValueError\u001b[0m: list.remove(x): x not in list"
          ]
        }
      ]
    },
    {
      "cell_type": "code",
      "source": [
        "my_li"
      ],
      "metadata": {
        "id": "1yi2zgULzL13"
      },
      "execution_count": null,
      "outputs": []
    },
    {
      "cell_type": "code",
      "source": [
        "my_li[-3]"
      ],
      "metadata": {
        "colab": {
          "base_uri": "https://localhost:8080/"
        },
        "id": "bL98ueOLzbDA",
        "outputId": "6c449e98-c1b6-44b2-bf6e-2306f257967a"
      },
      "execution_count": 35,
      "outputs": [
        {
          "output_type": "execute_result",
          "data": {
            "text/plain": [
              "[112, 113]"
            ]
          },
          "metadata": {},
          "execution_count": 35
        }
      ]
    },
    {
      "cell_type": "code",
      "source": [
        "my_li[11].remove(112)"
      ],
      "metadata": {
        "id": "V6Bc00ULzg2u"
      },
      "execution_count": 36,
      "outputs": []
    },
    {
      "cell_type": "code",
      "source": [
        "print(my_li)"
      ],
      "metadata": {
        "colab": {
          "base_uri": "https://localhost:8080/"
        },
        "id": "h94w3_m_zoc0",
        "outputId": "ebdcc2be-7033-4914-ec10-2a90592b5f7b"
      },
      "execution_count": 37,
      "outputs": [
        {
          "output_type": "stream",
          "name": "stdout",
          "text": [
            "[1, 10, 5, 4, 6, 111, 111, 10, 3, 2, 111, [113], 14, 15]\n"
          ]
        }
      ]
    },
    {
      "cell_type": "code",
      "source": [
        "my_li.remove([113])"
      ],
      "metadata": {
        "id": "AcH1wYZwztW8"
      },
      "execution_count": 38,
      "outputs": []
    },
    {
      "cell_type": "code",
      "source": [
        "print(my_li)"
      ],
      "metadata": {
        "colab": {
          "base_uri": "https://localhost:8080/"
        },
        "id": "mexbZ0yjz04I",
        "outputId": "4b21b15d-9917-4602-ebae-19cbd96e4686"
      },
      "execution_count": 39,
      "outputs": [
        {
          "output_type": "stream",
          "name": "stdout",
          "text": [
            "[1, 10, 5, 4, 6, 111, 111, 10, 3, 2, 111, 14, 15]\n"
          ]
        }
      ]
    },
    {
      "cell_type": "code",
      "source": [
        "# 6. 리스트에서 특정 값 갯수 세기\n",
        "# count()\n",
        "\n",
        "my_li.count(111)"
      ],
      "metadata": {
        "colab": {
          "base_uri": "https://localhost:8080/"
        },
        "id": "R-MONowFz20n",
        "outputId": "8b8f69d5-65e5-4c28-cbea-79e0d959ed3b"
      },
      "execution_count": 40,
      "outputs": [
        {
          "output_type": "execute_result",
          "data": {
            "text/plain": [
              "3"
            ]
          },
          "metadata": {},
          "execution_count": 40
        }
      ]
    },
    {
      "cell_type": "code",
      "source": [
        "# 7. 리스트 오름차순 정렬\n",
        "my_li.sort()"
      ],
      "metadata": {
        "id": "d0C4nqnYz_4b"
      },
      "execution_count": 41,
      "outputs": []
    },
    {
      "cell_type": "code",
      "source": [
        "print(my_li)"
      ],
      "metadata": {
        "colab": {
          "base_uri": "https://localhost:8080/"
        },
        "id": "WncOdd440DEJ",
        "outputId": "e06e1aa1-24c9-43cc-cd34-c475bd888b0e"
      },
      "execution_count": 42,
      "outputs": [
        {
          "output_type": "stream",
          "name": "stdout",
          "text": [
            "[1, 2, 3, 4, 5, 6, 10, 10, 14, 15, 111, 111, 111]\n"
          ]
        }
      ]
    },
    {
      "cell_type": "code",
      "source": [
        "# 8. 리스트 데이터 복사\n",
        "# 얕은복사 깊은복사"
      ],
      "metadata": {
        "id": "ZvaL3VwH0MRw"
      },
      "execution_count": 43,
      "outputs": []
    },
    {
      "cell_type": "code",
      "source": [
        "li1 = [4, 1, 10]\n",
        "li2 = li1\n",
        "\n",
        "print(li1)\n",
        "print(li2)"
      ],
      "metadata": {
        "colab": {
          "base_uri": "https://localhost:8080/"
        },
        "id": "-JRbZUmF0RSO",
        "outputId": "3c7c5ce3-55a5-42f7-cdd2-a9f49648d2c8"
      },
      "execution_count": 44,
      "outputs": [
        {
          "output_type": "stream",
          "name": "stdout",
          "text": [
            "[4, 1, 10]\n",
            "[4, 1, 10]\n"
          ]
        }
      ]
    },
    {
      "cell_type": "code",
      "source": [
        "id(li1), id(li2)"
      ],
      "metadata": {
        "colab": {
          "base_uri": "https://localhost:8080/"
        },
        "id": "hRrURD7l1bhC",
        "outputId": "a57fdd1d-8fe4-403b-a7f8-c32d61eca8c2"
      },
      "execution_count": 45,
      "outputs": [
        {
          "output_type": "execute_result",
          "data": {
            "text/plain": [
              "(133147986757248, 133147986757248)"
            ]
          },
          "metadata": {},
          "execution_count": 45
        }
      ]
    },
    {
      "cell_type": "code",
      "source": [
        "li2.sort()"
      ],
      "metadata": {
        "id": "l377QpUt0Ywc"
      },
      "execution_count": 46,
      "outputs": []
    },
    {
      "cell_type": "code",
      "source": [
        "print(li1)\n",
        "print(li2)"
      ],
      "metadata": {
        "colab": {
          "base_uri": "https://localhost:8080/"
        },
        "id": "eQTi3yS20i6J",
        "outputId": "6f98bbcb-d665-4a15-a8ad-9ac1c1cc68da"
      },
      "execution_count": 47,
      "outputs": [
        {
          "output_type": "stream",
          "name": "stdout",
          "text": [
            "[1, 4, 10]\n",
            "[1, 4, 10]\n"
          ]
        }
      ]
    },
    {
      "cell_type": "code",
      "source": [
        "import copy\n",
        "\n",
        "li1 = [4, 1, 10]\n",
        "li2 = copy.deepcopy(li1)  # 깊은복사\n",
        "\n",
        "print(li1)\n",
        "print(li2)"
      ],
      "metadata": {
        "colab": {
          "base_uri": "https://localhost:8080/"
        },
        "id": "N8_TVJ8u0knH",
        "outputId": "76d0ef7e-efe2-495c-aab5-4e32b6d23192"
      },
      "execution_count": 48,
      "outputs": [
        {
          "output_type": "stream",
          "name": "stdout",
          "text": [
            "[4, 1, 10]\n",
            "[4, 1, 10]\n"
          ]
        }
      ]
    },
    {
      "cell_type": "code",
      "source": [
        "id(li1), id(li2)"
      ],
      "metadata": {
        "colab": {
          "base_uri": "https://localhost:8080/"
        },
        "id": "6ziTOZa01uBc",
        "outputId": "84cf8a08-ff77-42ea-c3c1-cf9120f9ddcb"
      },
      "execution_count": 49,
      "outputs": [
        {
          "output_type": "execute_result",
          "data": {
            "text/plain": [
              "(133148375101760, 133148390382528)"
            ]
          },
          "metadata": {},
          "execution_count": 49
        }
      ]
    },
    {
      "cell_type": "code",
      "source": [
        "li2.sort()"
      ],
      "metadata": {
        "id": "d0Et-6hg05LL"
      },
      "execution_count": 50,
      "outputs": []
    },
    {
      "cell_type": "code",
      "source": [
        "print(li1)\n",
        "print(li2)"
      ],
      "metadata": {
        "colab": {
          "base_uri": "https://localhost:8080/"
        },
        "id": "Z87SBmxA09Ze",
        "outputId": "71849a48-c48d-4c40-c82e-1b6041647d26"
      },
      "execution_count": 51,
      "outputs": [
        {
          "output_type": "stream",
          "name": "stdout",
          "text": [
            "[4, 1, 10]\n",
            "[1, 4, 10]\n"
          ]
        }
      ]
    },
    {
      "cell_type": "code",
      "source": [
        "# 9. pop()\n",
        "# 가장 마지막 데이터를 출력하고, 출력한 데이터를 리스트에서 삭제\n",
        "my_li.pop()"
      ],
      "metadata": {
        "id": "clAlsIMZ0_Pa",
        "colab": {
          "base_uri": "https://localhost:8080/"
        },
        "outputId": "ef2fd83b-0d0e-4681-f13c-3744b2c25499"
      },
      "execution_count": 60,
      "outputs": [
        {
          "output_type": "execute_result",
          "data": {
            "text/plain": [
              "14"
            ]
          },
          "metadata": {},
          "execution_count": 60
        }
      ]
    },
    {
      "cell_type": "code",
      "source": [
        "print(my_li)"
      ],
      "metadata": {
        "colab": {
          "base_uri": "https://localhost:8080/"
        },
        "id": "kjmNzG8uYEAB",
        "outputId": "72c9d203-3e35-43b5-ae7a-4c6a692a3f66"
      },
      "execution_count": 61,
      "outputs": [
        {
          "output_type": "stream",
          "name": "stdout",
          "text": [
            "[1, 2, 3, 4, 5, 6, 10, 10]\n"
          ]
        }
      ]
    },
    {
      "cell_type": "code",
      "source": [
        "# 10. 리스트끼리 연산\n",
        "# + 연산만 가능\n",
        "a_li = [1, 2, 3]\n",
        "b_li = [7, 8 ,9]"
      ],
      "metadata": {
        "id": "7iPPf3UoYbJT"
      },
      "execution_count": 63,
      "outputs": []
    },
    {
      "cell_type": "code",
      "source": [
        "print(a_li + b_li)"
      ],
      "metadata": {
        "colab": {
          "base_uri": "https://localhost:8080/"
        },
        "id": "enwtDj16Yxvs",
        "outputId": "326e953f-6530-46d9-c753-ec568df39306"
      },
      "execution_count": 66,
      "outputs": [
        {
          "output_type": "stream",
          "name": "stdout",
          "text": [
            "[1, 2, 3, 7, 8, 9]\n"
          ]
        }
      ]
    },
    {
      "cell_type": "code",
      "source": [
        "# 11. 리스트에는 여러 데이터 타입을 할당 할 수 있습니다\n",
        "\n",
        "li = [1, 2, \"3\", [5, 6], (7, 8), {\"key\":\"value\"}, True, False]\n",
        "li"
      ],
      "metadata": {
        "colab": {
          "base_uri": "https://localhost:8080/"
        },
        "id": "YgZcF6iZZBKh",
        "outputId": "ca5b4168-f7fb-4268-da4b-2f1491a09b2c"
      },
      "execution_count": 67,
      "outputs": [
        {
          "output_type": "execute_result",
          "data": {
            "text/plain": [
              "[1, 2, '3', [5, 6], (7, 8), {'key': 'value'}, True, False]"
            ]
          },
          "metadata": {},
          "execution_count": 67
        }
      ]
    },
    {
      "cell_type": "code",
      "source": [
        "li[0]"
      ],
      "metadata": {
        "colab": {
          "base_uri": "https://localhost:8080/"
        },
        "id": "SlZ5y08TZeOV",
        "outputId": "e91809de-7787-431a-ca8b-7c1543f91521"
      },
      "execution_count": 68,
      "outputs": [
        {
          "output_type": "execute_result",
          "data": {
            "text/plain": [
              "1"
            ]
          },
          "metadata": {},
          "execution_count": 68
        }
      ]
    },
    {
      "cell_type": "code",
      "source": [
        "li[4], type(li[4])"
      ],
      "metadata": {
        "colab": {
          "base_uri": "https://localhost:8080/"
        },
        "id": "l-A52kv0ZyaB",
        "outputId": "baa52e87-8981-4790-8f60-b5928a23e4bc"
      },
      "execution_count": 71,
      "outputs": [
        {
          "output_type": "execute_result",
          "data": {
            "text/plain": [
              "((7, 8), tuple)"
            ]
          },
          "metadata": {},
          "execution_count": 71
        }
      ]
    },
    {
      "cell_type": "code",
      "source": [
        "li"
      ],
      "metadata": {
        "colab": {
          "base_uri": "https://localhost:8080/"
        },
        "id": "1vN-UzvxaKaA",
        "outputId": "0f1dbcb2-3512-4ba6-87e3-4712b8d790a8"
      },
      "execution_count": 73,
      "outputs": [
        {
          "output_type": "execute_result",
          "data": {
            "text/plain": [
              "[1, 2, '3', [5, 6], (7, 8), {'key': 'value'}, True, False]"
            ]
          },
          "metadata": {},
          "execution_count": 73
        }
      ]
    },
    {
      "cell_type": "code",
      "source": [
        "# list[n:m-1]\n",
        "li[1:3]"
      ],
      "metadata": {
        "colab": {
          "base_uri": "https://localhost:8080/"
        },
        "id": "zPCCknJQZ1I-",
        "outputId": "9e946c1f-a913-427b-ba35-e2dd77c32077"
      },
      "execution_count": 72,
      "outputs": [
        {
          "output_type": "execute_result",
          "data": {
            "text/plain": [
              "[2, '3']"
            ]
          },
          "metadata": {},
          "execution_count": 72
        }
      ]
    },
    {
      "cell_type": "markdown",
      "source": [
        "### 5-3. 리스트 데이터에서 인덱스 값을 이용한 특정 데이터 선택\n",
        "- 인덱싱(Indexing)\n",
        "  - 단일 요소를 선택하기 위해 사용\n",
        "  - 인덱스는 0부터 시작하며, []를 사용하여 특정 위치의 요소를 가져옵니다\n",
        "  - `예: my_list[2] 은 my_list의 세 번째 요소를 가져옵니다`\n",
        "\n",
        "- 슬라이싱(Slicing)\n",
        "  - 연속된 범위의 요소를 선택하기 위해 사용\n",
        "  - [start:end:stride]\n",
        "  - 시작 인덱스부터 끝 인덱스까지의 범위를 지정하여 요소를 가져옵니다\n",
        "  - 시작 인덱스는 포함되고, 끝 인덱스는 포함되지 않습니다\n",
        "  - `예: my_list[1:4] 는 my_list 두 번째 부터 세 번째 요소까지 가져옵니다`"
      ],
      "metadata": {
        "id": "bWZ7tzJfaIUl"
      }
    },
    {
      "cell_type": "code",
      "source": [
        "my_list = [10, 20, 30, 40, 50, 60, 70, 80, 90, 100]\n",
        "my_str = \"Hello, World!\""
      ],
      "metadata": {
        "id": "uHZzlXihb9et"
      },
      "execution_count": 74,
      "outputs": []
    },
    {
      "cell_type": "code",
      "source": [
        "# 1. 리스트에서 첫 번째 원소에 접근\n",
        "my_list[0]"
      ],
      "metadata": {
        "colab": {
          "base_uri": "https://localhost:8080/"
        },
        "id": "sbu4VHI8cHsi",
        "outputId": "5790d243-c5d7-4656-c9c1-1e93fd9fb334"
      },
      "execution_count": 75,
      "outputs": [
        {
          "output_type": "execute_result",
          "data": {
            "text/plain": [
              "10"
            ]
          },
          "metadata": {},
          "execution_count": 75
        }
      ]
    },
    {
      "cell_type": "code",
      "source": [
        "# 리스트에서 첫 번째 원소부터 세 번째 원소까지 선택해주세요\n",
        "my_list[0:3]"
      ],
      "metadata": {
        "colab": {
          "base_uri": "https://localhost:8080/"
        },
        "id": "DnIvNmgccXfi",
        "outputId": "29b8e7d3-dd80-4db5-e922-00d48eb2f710"
      },
      "execution_count": 76,
      "outputs": [
        {
          "output_type": "execute_result",
          "data": {
            "text/plain": [
              "[10, 20, 30]"
            ]
          },
          "metadata": {},
          "execution_count": 76
        }
      ]
    },
    {
      "cell_type": "code",
      "source": [
        "#[start:end:stride]\n",
        "my_list[::2]"
      ],
      "metadata": {
        "colab": {
          "base_uri": "https://localhost:8080/"
        },
        "id": "xkNlZnzYcshA",
        "outputId": "59337e59-0f0a-4e0a-92a7-5b3a22c75843"
      },
      "execution_count": 78,
      "outputs": [
        {
          "output_type": "execute_result",
          "data": {
            "text/plain": [
              "[10, 30, 50, 70, 90]"
            ]
          },
          "metadata": {},
          "execution_count": 78
        }
      ]
    },
    {
      "cell_type": "code",
      "source": [
        "my_str[::-1]"
      ],
      "metadata": {
        "colab": {
          "base_uri": "https://localhost:8080/",
          "height": 35
        },
        "id": "hfW0bBeeeekz",
        "outputId": "105c19f3-9c5d-45f5-e502-dcc878b1dfea"
      },
      "execution_count": 83,
      "outputs": [
        {
          "output_type": "execute_result",
          "data": {
            "text/plain": [
              "'!dlroW ,olleH'"
            ],
            "application/vnd.google.colaboratory.intrinsic+json": {
              "type": "string"
            }
          },
          "metadata": {},
          "execution_count": 83
        }
      ]
    },
    {
      "cell_type": "code",
      "source": [
        "my_list[2] = 999"
      ],
      "metadata": {
        "id": "yrb4QNW_dU3w"
      },
      "execution_count": 86,
      "outputs": []
    },
    {
      "cell_type": "code",
      "source": [
        "my_list"
      ],
      "metadata": {
        "colab": {
          "base_uri": "https://localhost:8080/"
        },
        "id": "ExrZ5NJUfK_C",
        "outputId": "8d75e0a2-d647-4f90-e998-6d472cf85f9b"
      },
      "execution_count": 87,
      "outputs": [
        {
          "output_type": "execute_result",
          "data": {
            "text/plain": [
              "[10, 20, 999, 40, 50, 60, 70, 80, 90, 100]"
            ]
          },
          "metadata": {},
          "execution_count": 87
        }
      ]
    },
    {
      "cell_type": "markdown",
      "source": [
        "### 5-3. tuple()\n",
        "- 리스트 동일한데, 왜 사용?\n",
        "- 튜플은 리스트 보다 같은 데이터를 가졌을 때 공간을 더 적게 사용"
      ],
      "metadata": {
        "id": "AeNmHJPRfeC4"
      }
    },
    {
      "cell_type": "code",
      "source": [
        "# tuple\n",
        "tp1 = (1, 2, 3)\n",
        "tp2 = (4, 5, 6)\n",
        "type(tp1)"
      ],
      "metadata": {
        "colab": {
          "base_uri": "https://localhost:8080/"
        },
        "id": "ajpcwi2Df1sR",
        "outputId": "5f33bd4e-51ae-4df0-9ab5-0e1535324aa5"
      },
      "execution_count": 88,
      "outputs": [
        {
          "output_type": "execute_result",
          "data": {
            "text/plain": [
              "tuple"
            ]
          },
          "metadata": {},
          "execution_count": 88
        }
      ]
    },
    {
      "cell_type": "code",
      "source": [
        "tp3 = 7, 8, 9\n",
        "type(tp3)"
      ],
      "metadata": {
        "colab": {
          "base_uri": "https://localhost:8080/"
        },
        "id": "DE3HgOycf726",
        "outputId": "7e0d6e88-7d2f-4613-a16e-7f34f544dc85"
      },
      "execution_count": 89,
      "outputs": [
        {
          "output_type": "execute_result",
          "data": {
            "text/plain": [
              "tuple"
            ]
          },
          "metadata": {},
          "execution_count": 89
        }
      ]
    },
    {
      "cell_type": "code",
      "source": [
        "tp1[1]"
      ],
      "metadata": {
        "colab": {
          "base_uri": "https://localhost:8080/"
        },
        "id": "7fMGfyoDgA2W",
        "outputId": "5a3919f8-11f0-4a4a-edfb-4a093068ee43"
      },
      "execution_count": 90,
      "outputs": [
        {
          "output_type": "execute_result",
          "data": {
            "text/plain": [
              "2"
            ]
          },
          "metadata": {},
          "execution_count": 90
        }
      ]
    },
    {
      "cell_type": "code",
      "source": [
        "tp2[1::-1]"
      ],
      "metadata": {
        "colab": {
          "base_uri": "https://localhost:8080/"
        },
        "id": "CGUKebqogJaY",
        "outputId": "9e07d319-0545-4ddc-b987-318ac8e5588f"
      },
      "execution_count": 91,
      "outputs": [
        {
          "output_type": "execute_result",
          "data": {
            "text/plain": [
              "(5, 4)"
            ]
          },
          "metadata": {},
          "execution_count": 91
        }
      ]
    },
    {
      "cell_type": "code",
      "source": [
        "# 리스트와 튜플의 저장공간 차이 비교\n",
        "\n",
        "import sys\n",
        "\n",
        "li = [1, 2, 3]\n",
        "tp = (1, 2, 3)"
      ],
      "metadata": {
        "id": "kcXlwWbngL_9"
      },
      "execution_count": 92,
      "outputs": []
    },
    {
      "cell_type": "code",
      "source": [
        "print(sys.getsizeof(li))\n",
        "print(sys.getsizeof(tp))"
      ],
      "metadata": {
        "colab": {
          "base_uri": "https://localhost:8080/"
        },
        "id": "CGYaLsGDgdGy",
        "outputId": "33bb755f-c50c-454b-9cbe-9aace9b03c05"
      },
      "execution_count": 93,
      "outputs": [
        {
          "output_type": "stream",
          "name": "stdout",
          "text": [
            "88\n",
            "64\n"
          ]
        }
      ]
    },
    {
      "cell_type": "code",
      "source": [
        "li[0] = 10\n",
        "li"
      ],
      "metadata": {
        "colab": {
          "base_uri": "https://localhost:8080/"
        },
        "id": "bTpPfeuOgl06",
        "outputId": "9831b66c-50f0-4ebd-88e0-a7a641d4939e"
      },
      "execution_count": 95,
      "outputs": [
        {
          "output_type": "execute_result",
          "data": {
            "text/plain": [
              "[10, 2, 3]"
            ]
          },
          "metadata": {},
          "execution_count": 95
        }
      ]
    },
    {
      "cell_type": "code",
      "source": [
        "tp[0] = 10"
      ],
      "metadata": {
        "colab": {
          "base_uri": "https://localhost:8080/",
          "height": 176
        },
        "id": "2rFtME3Bgv_6",
        "outputId": "6f675d7c-8c0f-401a-b5b2-9933e16f7cbd"
      },
      "execution_count": 96,
      "outputs": [
        {
          "output_type": "error",
          "ename": "TypeError",
          "evalue": "ignored",
          "traceback": [
            "\u001b[0;31m---------------------------------------------------------------------------\u001b[0m",
            "\u001b[0;31mTypeError\u001b[0m                                 Traceback (most recent call last)",
            "\u001b[0;32m<ipython-input-96-2dabb7b8a380>\u001b[0m in \u001b[0;36m<cell line: 1>\u001b[0;34m()\u001b[0m\n\u001b[0;32m----> 1\u001b[0;31m \u001b[0mtp\u001b[0m\u001b[0;34m[\u001b[0m\u001b[0;36m0\u001b[0m\u001b[0;34m]\u001b[0m \u001b[0;34m=\u001b[0m \u001b[0;36m10\u001b[0m\u001b[0;34m\u001b[0m\u001b[0;34m\u001b[0m\u001b[0m\n\u001b[0m",
            "\u001b[0;31mTypeError\u001b[0m: 'tuple' object does not support item assignment"
          ]
        }
      ]
    },
    {
      "cell_type": "markdown",
      "source": [
        "## 6. 형변환\n",
        "- 데이터 타입 변환\n",
        "- int, float, str, bool, list, tuple, dict"
      ],
      "metadata": {
        "id": "YgwJKp66g1gy"
      }
    },
    {
      "cell_type": "code",
      "source": [
        "a = 1\n",
        "b = \"2\""
      ],
      "metadata": {
        "id": "SMUdrE51hvH5"
      },
      "execution_count": 97,
      "outputs": []
    },
    {
      "cell_type": "code",
      "source": [
        "a + b"
      ],
      "metadata": {
        "colab": {
          "base_uri": "https://localhost:8080/",
          "height": 176
        },
        "id": "6pjMA50ahyAp",
        "outputId": "fffb47f6-bb9a-4b80-de09-06a4b11ae608"
      },
      "execution_count": 98,
      "outputs": [
        {
          "output_type": "error",
          "ename": "TypeError",
          "evalue": "ignored",
          "traceback": [
            "\u001b[0;31m---------------------------------------------------------------------------\u001b[0m",
            "\u001b[0;31mTypeError\u001b[0m                                 Traceback (most recent call last)",
            "\u001b[0;32m<ipython-input-98-bd58363a63fc>\u001b[0m in \u001b[0;36m<cell line: 1>\u001b[0;34m()\u001b[0m\n\u001b[0;32m----> 1\u001b[0;31m \u001b[0ma\u001b[0m \u001b[0;34m+\u001b[0m \u001b[0mb\u001b[0m\u001b[0;34m\u001b[0m\u001b[0;34m\u001b[0m\u001b[0m\n\u001b[0m",
            "\u001b[0;31mTypeError\u001b[0m: unsupported operand type(s) for +: 'int' and 'str'"
          ]
        }
      ]
    },
    {
      "cell_type": "code",
      "source": [
        "a + int(b)"
      ],
      "metadata": {
        "colab": {
          "base_uri": "https://localhost:8080/"
        },
        "id": "tBdSeLQbh0fP",
        "outputId": "0bbac666-8e44-4177-bbc2-77670d011b2f"
      },
      "execution_count": 99,
      "outputs": [
        {
          "output_type": "execute_result",
          "data": {
            "text/plain": [
              "3"
            ]
          },
          "metadata": {},
          "execution_count": 99
        }
      ]
    },
    {
      "cell_type": "code",
      "source": [
        "print(int(a) + int(b))\n",
        "print(float(a) + float(b))\n",
        "print(int(a) + float(b))\n",
        "print(str(a) + b)"
      ],
      "metadata": {
        "colab": {
          "base_uri": "https://localhost:8080/"
        },
        "id": "Ejl-eJGZiG9b",
        "outputId": "3512103c-35a8-48c6-ea93-6e863ddf2dc1"
      },
      "execution_count": 103,
      "outputs": [
        {
          "output_type": "stream",
          "name": "stdout",
          "text": [
            "3\n",
            "3.0\n",
            "3.0\n",
            "12\n"
          ]
        }
      ]
    },
    {
      "cell_type": "code",
      "source": [
        "# 형변환 안되는 경우\n",
        "text = 'python'\n",
        "int(text)"
      ],
      "metadata": {
        "colab": {
          "base_uri": "https://localhost:8080/",
          "height": 211
        },
        "id": "ZgmkQhxHiM0I",
        "outputId": "a6ac88c8-841e-41b2-9e87-97ebebb2446f"
      },
      "execution_count": 104,
      "outputs": [
        {
          "output_type": "error",
          "ename": "ValueError",
          "evalue": "ignored",
          "traceback": [
            "\u001b[0;31m---------------------------------------------------------------------------\u001b[0m",
            "\u001b[0;31mValueError\u001b[0m                                Traceback (most recent call last)",
            "\u001b[0;32m<ipython-input-104-e2ab2f3bf35f>\u001b[0m in \u001b[0;36m<cell line: 3>\u001b[0;34m()\u001b[0m\n\u001b[1;32m      1\u001b[0m \u001b[0;31m# 형변환 안되는 경우\u001b[0m\u001b[0;34m\u001b[0m\u001b[0;34m\u001b[0m\u001b[0m\n\u001b[1;32m      2\u001b[0m \u001b[0mtext\u001b[0m \u001b[0;34m=\u001b[0m \u001b[0;34m'python'\u001b[0m\u001b[0;34m\u001b[0m\u001b[0;34m\u001b[0m\u001b[0m\n\u001b[0;32m----> 3\u001b[0;31m \u001b[0mint\u001b[0m\u001b[0;34m(\u001b[0m\u001b[0mtext\u001b[0m\u001b[0;34m)\u001b[0m\u001b[0;34m\u001b[0m\u001b[0;34m\u001b[0m\u001b[0m\n\u001b[0m",
            "\u001b[0;31mValueError\u001b[0m: invalid literal for int() with base 10: 'python'"
          ]
        }
      ]
    },
    {
      "cell_type": "markdown",
      "source": [
        "## 7. 연산자의 종류와 우선순위\n",
        "- 괄호: () (괄호 안의 표현식이 가장 먼저 계산됨)\n",
        "- 지수 연산자: **\n",
        "- 단항 연산자: -(음수), +(양수)\n",
        "- 곱셉, 나눗셈, 나머지 연산자: *, /, //, %\n",
        "- 덧셈, 뺄셈 연산자: +, -\n",
        "- 비교 연산자: <, >, <=, >=, ==, !=\n",
        "- 논리 연산자: and, or, not\n",
        "- 멤버 연산자: in, not in\n",
        "- 항등 연산자: is, is not\n",
        "- 할당 연산자: =, +=, -=\n",
        "- 삼항 조건 연산자: if-else 표현식"
      ],
      "metadata": {
        "id": "-dZq5h0Tit1s"
      }
    },
    {
      "cell_type": "code",
      "source": [
        "a = 10\n",
        "b = 3"
      ],
      "metadata": {
        "id": "IUl_Gy0Hkgpo"
      },
      "execution_count": 105,
      "outputs": []
    },
    {
      "cell_type": "code",
      "source": [
        "print(a + b)\n",
        "print(a - b)\n",
        "print(a * b)\n",
        "print(a / b)  # 나눗셈\n",
        "print(a // b)  # 몫을 정수로\n",
        "print(a % b)  # 나머지"
      ],
      "metadata": {
        "colab": {
          "base_uri": "https://localhost:8080/"
        },
        "id": "WwFLf56jkiGR",
        "outputId": "2f90d191-e362-4623-cdbc-64fed9ec8c1e"
      },
      "execution_count": 109,
      "outputs": [
        {
          "output_type": "stream",
          "name": "stdout",
          "text": [
            "13\n",
            "7\n",
            "30\n",
            "3.3333333333333335\n",
            "3\n",
            "1\n"
          ]
        }
      ]
    },
    {
      "cell_type": "code",
      "source": [
        "# 할당 연산자\n",
        "a = 10"
      ],
      "metadata": {
        "id": "3rxeabYCkqcr"
      },
      "execution_count": 110,
      "outputs": []
    },
    {
      "cell_type": "code",
      "source": [
        "a = a + 10\n",
        "a"
      ],
      "metadata": {
        "colab": {
          "base_uri": "https://localhost:8080/"
        },
        "id": "hXR3CBH-lFYS",
        "outputId": "31568bd9-14d8-4067-d5b2-d7b8fd75a497"
      },
      "execution_count": 111,
      "outputs": [
        {
          "output_type": "execute_result",
          "data": {
            "text/plain": [
              "20"
            ]
          },
          "metadata": {},
          "execution_count": 111
        }
      ]
    },
    {
      "cell_type": "code",
      "source": [
        "a = a + 10\n",
        "a"
      ],
      "metadata": {
        "colab": {
          "base_uri": "https://localhost:8080/"
        },
        "id": "NTGionmHlPAl",
        "outputId": "5d680b36-d7da-4e51-b739-30caf8c9ffda"
      },
      "execution_count": 112,
      "outputs": [
        {
          "output_type": "execute_result",
          "data": {
            "text/plain": [
              "30"
            ]
          },
          "metadata": {},
          "execution_count": 112
        }
      ]
    },
    {
      "cell_type": "code",
      "source": [
        "a += 10"
      ],
      "metadata": {
        "id": "sBmnTAUtlRvV"
      },
      "execution_count": 113,
      "outputs": []
    },
    {
      "cell_type": "code",
      "source": [
        "a"
      ],
      "metadata": {
        "colab": {
          "base_uri": "https://localhost:8080/"
        },
        "id": "jm0vZnftlWai",
        "outputId": "bd645bf0-3e82-47f9-c039-a7a3c4d55dfd"
      },
      "execution_count": 114,
      "outputs": [
        {
          "output_type": "execute_result",
          "data": {
            "text/plain": [
              "40"
            ]
          },
          "metadata": {},
          "execution_count": 114
        }
      ]
    },
    {
      "cell_type": "code",
      "source": [
        "# mini quiz"
      ],
      "metadata": {
        "id": "sCYgfdawlWuJ"
      },
      "execution_count": 115,
      "outputs": []
    },
    {
      "cell_type": "code",
      "source": [
        "import random\n",
        "\n",
        "random.randint(1, 10)"
      ],
      "metadata": {
        "colab": {
          "base_uri": "https://localhost:8080/"
        },
        "id": "7BVNRVubllwa",
        "outputId": "de95cbd7-864d-4d5a-e499-79a69a81ad17"
      },
      "execution_count": 128,
      "outputs": [
        {
          "output_type": "execute_result",
          "data": {
            "text/plain": [
              "10"
            ]
          },
          "metadata": {},
          "execution_count": 128
        }
      ]
    },
    {
      "cell_type": "code",
      "source": [
        "import random\n",
        "# 솔루션을 리스트로 작성\n",
        "solutions = [\n",
        "    '포기하지 말고 힘내주세요',\n",
        "    '집에 가는 것은 어떨까요?',\n",
        "    '걱정마세요 취업할 수 있어요!',\n",
        "    '로봇이 세상을 지배할 겁니다.'\n",
        "]\n",
        "# 질문 입력 받습니다\n",
        "question = input('질문을 입력하세요: ')\n",
        "# 저.. 이거 공부하면 잘될 수 있을까요?\n",
        "# 솔루션 중, 한 가지 대답을 랜덤하게 선택\n",
        "idx = random.randint(0, len(solutions) - 1)\n",
        "# 선택한 대답을 출력 해줍니다\n",
        "print('='*30)\n",
        "print('답변: ', solutions[idx])"
      ],
      "metadata": {
        "colab": {
          "base_uri": "https://localhost:8080/"
        },
        "id": "7Ac4TisclyEQ",
        "outputId": "60f51a30-23cf-439d-c04f-f85314530963"
      },
      "execution_count": 136,
      "outputs": [
        {
          "output_type": "stream",
          "name": "stdout",
          "text": [
            "질문을 입력하세요: \b내일 수업 나올까요?\n",
            "==============================\n",
            "답변:  로봇이 세상을 지배할 겁니다.\n"
          ]
        }
      ]
    },
    {
      "cell_type": "code",
      "source": [],
      "metadata": {
        "id": "CBhwvGismsNR"
      },
      "execution_count": null,
      "outputs": []
    }
  ]
}