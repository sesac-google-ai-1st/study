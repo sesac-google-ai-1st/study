{
 "cells": [
  {
   "cell_type": "markdown",
   "metadata": {},
   "source": [
    "# 조건문"
   ]
  },
  {
   "cell_type": "markdown",
   "metadata": {},
   "source": [
    "## 1. if else elif\n",
    "- 특정 조건에 따라서 코드를 실행하고자 할 때 사용 (코드 흐름 제어)\n",
    "- if else elif"
   ]
  },
  {
   "cell_type": "code",
   "execution_count": 6,
   "metadata": {},
   "outputs": [
    {
     "name": "stdout",
     "output_type": "stream",
     "text": [
      "True일 경우 들여쓰기 안쪽 코드를 실행\n",
      "if 문 밖에 있는 출력 코드 입니다\n"
     ]
    }
   ],
   "source": [
    "# 조건 부분: bool 데이터 타입 이외의 데이터 타입이 오면 bool 으로 형변환 되어 판단\n",
    "if 1:\n",
    "    print('True일 경우 들여쓰기 안쪽 코드를 실행')\n",
    "print('if 문 밖에 있는 출력 코드 입니다')"
   ]
  },
  {
   "cell_type": "code",
   "execution_count": 2,
   "metadata": {},
   "outputs": [
    {
     "name": "stdout",
     "output_type": "stream",
     "text": [
      "if 문 밖에 있는 출력 코드 입니다\n"
     ]
    }
   ],
   "source": [
    "if False:\n",
    "    print('True일 경우 들여쓰기 안쪽 코드를 실행')\n",
    "print('if 문 밖에 있는 출력 코드 입니다')"
   ]
  },
  {
   "cell_type": "code",
   "execution_count": 9,
   "metadata": {},
   "outputs": [
    {
     "data": {
      "text/plain": [
       "(False, True, True)"
      ]
     },
     "execution_count": 9,
     "metadata": {},
     "output_type": "execute_result"
    }
   ],
   "source": [
    "bool(0), bool(1), bool(123124313512451234242)"
   ]
  },
  {
   "cell_type": "code",
   "execution_count": 13,
   "metadata": {},
   "outputs": [
    {
     "data": {
      "text/plain": [
       "(False, False, False, True)"
      ]
     },
     "execution_count": 13,
     "metadata": {},
     "output_type": "execute_result"
    }
   ],
   "source": [
    "bool([]), bool({}), bool(()), bool([1])"
   ]
  },
  {
   "cell_type": "code",
   "execution_count": 15,
   "metadata": {},
   "outputs": [
    {
     "name": "stdout",
     "output_type": "stream",
     "text": [
      "num is True or False?\n"
     ]
    }
   ],
   "source": [
    "num = 1 \n",
    "\n",
    "if num:\n",
    "    print('num is True or False?')"
   ]
  },
  {
   "cell_type": "code",
   "execution_count": 17,
   "metadata": {},
   "outputs": [],
   "source": [
    "number = 8\n",
    "\n",
    "# 홀수이면 값을 출력해주세요\n",
    "if number % 2:\n",
    "    print(number)"
   ]
  },
  {
   "cell_type": "code",
   "execution_count": 18,
   "metadata": {},
   "outputs": [],
   "source": [
    "# 지갑에 돈이 10000원 이상 있으면 택시를 타고 그렇지 않으면 걸어서 집에 갑니다"
   ]
  },
  {
   "cell_type": "code",
   "execution_count": 19,
   "metadata": {},
   "outputs": [
    {
     "name": "stdout",
     "output_type": "stream",
     "text": [
      "택시를 타고 집에 갑니다. ㅎㅎㅎ\n"
     ]
    }
   ],
   "source": [
    "money = 10000\n",
    "\n",
    "if money >= 10000: \n",
    "    print('택시를 타고 집에 갑니다. ㅎㅎㅎ')\n",
    "\n",
    "if money < 10000:\n",
    "    print('걸어서 집에 갑니다. ㅠㅠ')"
   ]
  },
  {
   "cell_type": "code",
   "execution_count": 22,
   "metadata": {},
   "outputs": [
    {
     "name": "stdout",
     "output_type": "stream",
     "text": [
      "걸어서 집에 갑니다. ㅠㅠ\n"
     ]
    }
   ],
   "source": [
    "money = 9000\n",
    "\n",
    "if money >= 10000: \n",
    "    print('택시를 타고 집에 갑니다. ㅎㅎㅎ')\n",
    "else:\n",
    "    print('걸어서 집에 갑니다. ㅠㅠ')"
   ]
  },
  {
   "cell_type": "code",
   "execution_count": 23,
   "metadata": {},
   "outputs": [],
   "source": [
    "# 지갑에 돈이 10000원 이상 있으면 택시를 탑니다 \n",
    "# 2000원 이상 10000원 미만 있으면 버스를 탑니다 \n",
    "# 그렇지 않으면 걸어서 집에 갑니다"
   ]
  },
  {
   "cell_type": "code",
   "execution_count": 28,
   "metadata": {},
   "outputs": [],
   "source": [
    "money = 500"
   ]
  },
  {
   "cell_type": "code",
   "execution_count": 29,
   "metadata": {},
   "outputs": [
    {
     "name": "stdout",
     "output_type": "stream",
     "text": [
      "걸어서 갑시다\n"
     ]
    }
   ],
   "source": [
    "if money >= 10000:\n",
    "    print('택시 타고 갑시다')\n",
    "elif money >= 5000: \n",
    "    print('광역버스를 타고 갑시다')\n",
    "elif money >= 2000:\n",
    "    print('버스를 타고 갑시다')\n",
    "else:\n",
    "    print('걸어서 갑시다')"
   ]
  },
  {
   "cell_type": "code",
   "execution_count": 41,
   "metadata": {},
   "outputs": [
    {
     "name": "stdout",
     "output_type": "stream",
     "text": [
      "인출이 불가능합니다4000원의 잔액이 부족합니다\n",
      "현재 잔액은 10000원 입니다.\n"
     ]
    }
   ],
   "source": [
    "# 계좌에 10000원이 있습니다 \n",
    "account = 10000\n",
    "# 인출 금액을 입력 받습니다 \n",
    "draw_money = int(input('얼마 뽑으실건가요?: '))\n",
    "# 인출 금액이 계좌에 있는 금액보다 크면 \"인출이 불가능합니다\" 출력\n",
    "if account >= draw_money:\n",
    "    account = account - draw_money\n",
    "    print(str(draw_money) + '인출되었습니다.')\n",
    "# 인출 금액이 계좌에 있는 금액보다 작으면 \"인출이 되었습니다\" 출력\n",
    "else:\n",
    "    print('인출이 불가능합니다' + str(draw_money - account) + '원의 잔액이 부족합니다')\n",
    "\n",
    "# 마지막에 현재 계좌의 잔액을 출력\n",
    "print('현재 잔액은 ' + str(account) + '원 입니다.')"
   ]
  },
  {
   "cell_type": "code",
   "execution_count": 48,
   "metadata": {},
   "outputs": [
    {
     "name": "stdout",
     "output_type": "stream",
     "text": [
      "현재 잔액은 10000원 입니다. \n",
      "현재 잔액은 10000원 입니다.\n",
      "현재 잔액은 10000원 입니다. 그리고 인출금액은 5000 입니다.\n",
      "현재 잔액은 5000원 입니다. 그리고 인출금액은 10000 입니다.\n",
      "현재 잔액은 10000원 입니다. 그리고 인출금액은 5000 입니다.\n"
     ]
    }
   ],
   "source": [
    "# 문자열 포맷팅 \n",
    "# format() 함수 \n",
    "\n",
    "account = 10000\n",
    "draw_money = 5000 \n",
    "\n",
    "print('현재 잔액은 ' + str(account) + '원 입니다. ')\n",
    "print('현재 잔액은 {}원 입니다.'.format(account))\n",
    "print('현재 잔액은 {}원 입니다. 그리고 인출금액은 {} 입니다.'.format(account, draw_money))\n",
    "print('현재 잔액은 {}원 입니다. 그리고 인출금액은 {} 입니다.'.format(draw_money, account))\n",
    "print('현재 잔액은 {data1}원 입니다. 그리고 인출금액은 {data2} 입니다.'.format(data2=draw_money, data1=account))"
   ]
  },
  {
   "cell_type": "code",
   "execution_count": 52,
   "metadata": {},
   "outputs": [
    {
     "name": "stdout",
     "output_type": "stream",
     "text": [
      "현재 잔액은 10000 원 입니다.\n",
      "현재 잔액은 10000 원 입니다.\n",
      "현재 잔액은 10000 원 입니다.\n"
     ]
    }
   ],
   "source": [
    "# c style\n",
    "print('현재 잔액은 %d 원 입니다.' % account)\n",
    "\n",
    "# python style \n",
    "print('현재 잔액은 {} 원 입니다.'.format(account))\n",
    "\n",
    "# python style \n",
    "print(f'현재 잔액은 {account} 원 입니다.')"
   ]
  },
  {
   "cell_type": "markdown",
   "metadata": {},
   "source": [
    "## 2. 삼항연산자\n",
    "- 간단한 조건일 경우, if else 구문을 한 줄 코드로 표현하는 문법"
   ]
  },
  {
   "cell_type": "code",
   "execution_count": 53,
   "metadata": {},
   "outputs": [
    {
     "name": "stdout",
     "output_type": "stream",
     "text": [
      "walk\n"
     ]
    }
   ],
   "source": [
    "money = 2000\n",
    "\n",
    "if money >= 10000:\n",
    "    print('taxi')\n",
    "else:\n",
    "    print('walk')"
   ]
  },
  {
   "cell_type": "code",
   "execution_count": 54,
   "metadata": {},
   "outputs": [
    {
     "name": "stdout",
     "output_type": "stream",
     "text": [
      "walk\n"
     ]
    }
   ],
   "source": [
    "# True if condition else False\n",
    "print('taxi') if money >= 10000 else print('walk')"
   ]
  },
  {
   "cell_type": "code",
   "execution_count": 55,
   "metadata": {},
   "outputs": [
    {
     "name": "stdout",
     "output_type": "stream",
     "text": [
      "2번 코드 실행?\n"
     ]
    }
   ],
   "source": [
    "data = 0 \n",
    "\n",
    "if data:\n",
    "    print('1번 코드 실행?')\n",
    "else:\n",
    "    print('2번 코드 실행?')"
   ]
  },
  {
   "cell_type": "code",
   "execution_count": 57,
   "metadata": {},
   "outputs": [
    {
     "name": "stdout",
     "output_type": "stream",
     "text": [
      "not zero\n"
     ]
    }
   ],
   "source": [
    "data = 10 \n",
    "\n",
    "print('not zero') if data else print('zero')"
   ]
  },
  {
   "cell_type": "code",
   "execution_count": null,
   "metadata": {},
   "outputs": [],
   "source": []
  }
 ],
 "metadata": {
  "kernelspec": {
   "display_name": "google_venv",
   "language": "python",
   "name": "python3"
  },
  "language_info": {
   "codemirror_mode": {
    "name": "ipython",
    "version": 3
   },
   "file_extension": ".py",
   "mimetype": "text/x-python",
   "name": "python",
   "nbconvert_exporter": "python",
   "pygments_lexer": "ipython3",
   "version": "3.8.17"
  }
 },
 "nbformat": 4,
 "nbformat_minor": 2
}
